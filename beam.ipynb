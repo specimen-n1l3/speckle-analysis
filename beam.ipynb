{
 "cells": [
  {
   "cell_type": "code",
   "execution_count": 20,
   "id": "c45f176b-3769-4c5d-89a5-2ed43ee0da7a",
   "metadata": {},
   "outputs": [],
   "source": [
    "from scipy.optimize import curve_fit\n",
    "from scipy.stats import chisquare, chi2\n",
    "import numpy as np\n",
    "import matplotlib.pyplot as plt\n",
    "import pandas as pd"
   ]
  },
  {
   "cell_type": "code",
   "execution_count": 21,
   "id": "8a342076-3747-4cf6-80ac-662ba2ec69e8",
   "metadata": {},
   "outputs": [
    {
     "data": {
      "text/html": [
       "<div>\n",
       "<style scoped>\n",
       "    .dataframe tbody tr th:only-of-type {\n",
       "        vertical-align: middle;\n",
       "    }\n",
       "\n",
       "    .dataframe tbody tr th {\n",
       "        vertical-align: top;\n",
       "    }\n",
       "\n",
       "    .dataframe thead th {\n",
       "        text-align: right;\n",
       "    }\n",
       "</style>\n",
       "<table border=\"1\" class=\"dataframe\">\n",
       "  <thead>\n",
       "    <tr style=\"text-align: right;\">\n",
       "      <th></th>\n",
       "      <th>Distance from lens mm</th>\n",
       "      <th>beam radius mm</th>\n",
       "      <th>stddev mm</th>\n",
       "    </tr>\n",
       "  </thead>\n",
       "  <tbody>\n",
       "    <tr>\n",
       "      <th>0</th>\n",
       "      <td>39.92</td>\n",
       "      <td>971.0</td>\n",
       "      <td>0.707107</td>\n",
       "    </tr>\n",
       "    <tr>\n",
       "      <th>1</th>\n",
       "      <td>94.85</td>\n",
       "      <td>827.2</td>\n",
       "      <td>1.435270</td>\n",
       "    </tr>\n",
       "    <tr>\n",
       "      <th>2</th>\n",
       "      <td>172.92</td>\n",
       "      <td>680.1</td>\n",
       "      <td>0.860233</td>\n",
       "    </tr>\n",
       "    <tr>\n",
       "      <th>3</th>\n",
       "      <td>250.99</td>\n",
       "      <td>541.3</td>\n",
       "      <td>0.509902</td>\n",
       "    </tr>\n",
       "    <tr>\n",
       "      <th>4</th>\n",
       "      <td>329.06</td>\n",
       "      <td>400.7</td>\n",
       "      <td>0.678233</td>\n",
       "    </tr>\n",
       "    <tr>\n",
       "      <th>5</th>\n",
       "      <td>407.13</td>\n",
       "      <td>268.5</td>\n",
       "      <td>0.707107</td>\n",
       "    </tr>\n",
       "    <tr>\n",
       "      <th>6</th>\n",
       "      <td>485.20</td>\n",
       "      <td>132.0</td>\n",
       "      <td>0.316228</td>\n",
       "    </tr>\n",
       "    <tr>\n",
       "      <th>7</th>\n",
       "      <td>563.27</td>\n",
       "      <td>62.5</td>\n",
       "      <td>0.316228</td>\n",
       "    </tr>\n",
       "    <tr>\n",
       "      <th>8</th>\n",
       "      <td>641.34</td>\n",
       "      <td>121.2</td>\n",
       "      <td>0.244949</td>\n",
       "    </tr>\n",
       "    <tr>\n",
       "      <th>9</th>\n",
       "      <td>719.41</td>\n",
       "      <td>243.5</td>\n",
       "      <td>0.316228</td>\n",
       "    </tr>\n",
       "    <tr>\n",
       "      <th>10</th>\n",
       "      <td>797.48</td>\n",
       "      <td>382.5</td>\n",
       "      <td>0.707107</td>\n",
       "    </tr>\n",
       "    <tr>\n",
       "      <th>11</th>\n",
       "      <td>875.55</td>\n",
       "      <td>521.6</td>\n",
       "      <td>0.374166</td>\n",
       "    </tr>\n",
       "    <tr>\n",
       "      <th>12</th>\n",
       "      <td>953.62</td>\n",
       "      <td>660.6</td>\n",
       "      <td>0.860233</td>\n",
       "    </tr>\n",
       "    <tr>\n",
       "      <th>13</th>\n",
       "      <td>1031.69</td>\n",
       "      <td>806.5</td>\n",
       "      <td>0.836660</td>\n",
       "    </tr>\n",
       "    <tr>\n",
       "      <th>14</th>\n",
       "      <td>1109.76</td>\n",
       "      <td>951.5</td>\n",
       "      <td>0.707107</td>\n",
       "    </tr>\n",
       "  </tbody>\n",
       "</table>\n",
       "</div>"
      ],
      "text/plain": [
       "    Distance from lens mm  beam radius mm  stddev mm\n",
       "0                   39.92           971.0   0.707107\n",
       "1                   94.85           827.2   1.435270\n",
       "2                  172.92           680.1   0.860233\n",
       "3                  250.99           541.3   0.509902\n",
       "4                  329.06           400.7   0.678233\n",
       "5                  407.13           268.5   0.707107\n",
       "6                  485.20           132.0   0.316228\n",
       "7                  563.27            62.5   0.316228\n",
       "8                  641.34           121.2   0.244949\n",
       "9                  719.41           243.5   0.316228\n",
       "10                 797.48           382.5   0.707107\n",
       "11                 875.55           521.6   0.374166\n",
       "12                 953.62           660.6   0.860233\n",
       "13                1031.69           806.5   0.836660\n",
       "14                1109.76           951.5   0.707107"
      ]
     },
     "execution_count": 21,
     "metadata": {},
     "output_type": "execute_result"
    }
   ],
   "source": [
    "#importing data from excel file\n",
    "path_link = r\"C:\\Users\\GAdmin\\Desktop\\srp\\beam.xlsx\"\n",
    "Data_x = pd.read_excel(path_link)\n",
    "Data_x = Data_x[['Distance from lens mm', 'beam radius mm', 'stddev mm']]\n",
    "Data_x"
   ]
  },
  {
   "cell_type": "code",
   "execution_count": 22,
   "id": "f5586beb-eacd-45e1-a6f0-849194c84ebc",
   "metadata": {},
   "outputs": [],
   "source": [
    "x_values = Data_x['Distance from lens mm'] * 10**-3 #m\n",
    "y_values = Data_x['beam radius mm'] * 10**-6        #m\n",
    "stddev = Data_x['stddev mm'] * 10**-6               #m"
   ]
  },
  {
   "cell_type": "code",
   "execution_count": 23,
   "id": "393d1e23-a9ae-4e59-9e42-e5ae214031c3",
   "metadata": {},
   "outputs": [
    {
     "name": "stdout",
     "output_type": "stream",
     "text": [
      "Optimal parameters [4.12957244e-05 5.70721953e-01 2.37402841e-02]\n"
     ]
    }
   ],
   "source": [
    "#curve fitting\n",
    "wavelength = 532 * 10**-9 #m\n",
    "\n",
    "def waist_func(z, w0, z0, Zrm):\n",
    "    return w0 * np.sqrt(1 + (((z - z0) ** 2) / (Zrm**2)))\n",
    "\n",
    "popt, pcov = curve_fit(waist_func, x_values, y_values, p0 = [0.0002, 0.6, 0.02])\n",
    "\n",
    "print(\"Optimal parameters\", popt)\n",
    "\n",
    "w0, z0, Zrm = popt\n",
    "\n",
    "unc_w0 = pcov[0,0]**0.5\n",
    "unc_z0 = pcov[1,1]**0.5\n",
    "unc_Zrm = pcov[2,2]**0.5"
   ]
  },
  {
   "cell_type": "code",
   "execution_count": 24,
   "id": "13914d1e-384a-4a03-b9a5-8fefbe687f25",
   "metadata": {},
   "outputs": [
    {
     "data": {
      "image/png": "[encoded data removed]",
      "text/plain": [
       "<Figure size 640x480 with 1 Axes>"
      ]
     },
     "metadata": {},
     "output_type": "display_data"
    }
   ],
   "source": [
    "dx = np.linspace(0.03992, 1.10976, 10000)\n",
    "y_fit = waist_func(dx, w0, z0, Zrm)\n",
    "\n",
    "#plotting equation with fitted variables (X axis) \n",
    "plt.xlabel(\"distance from lens (m)\")\n",
    "plt.ylabel(\"width of beam (m)\")\n",
    "plt.title(\"width of beam against distance from lens\")\n",
    "plt.plot(dx, y_fit)\n",
    "plt.errorbar(x_values, y_values, fmt = 'o',  yerr=stddev, capsize=3, ecolor = \"black\")\n",
    "plt.show()"
   ]
  },
  {
   "cell_type": "code",
   "execution_count": 25,
   "id": "203c969c-ffc4-46ee-a145-34c25529810a",
   "metadata": {},
   "outputs": [
    {
     "name": "stdout",
     "output_type": "stream",
     "text": [
      "waist:  4.1295724436883e-05 m +- 1.9893413495473966e-05\n",
      "rayleigh range:  0.023740284069200892 m +- 48.40544040644888\n",
      "beam divergence angle:  0.0017394789513263409 m +- 2.0023981456752157e-05\n",
      "M^2 value:  0.4241920329867886 m +- 0.004891517779551046\n"
     ]
    }
   ],
   "source": [
    "#Calculating parameters\n",
    "def parameters(w0, Zrm):\n",
    "    beam_divergence_angle = w0/Zrm\n",
    "    unc_bda = (unc_w0 + unc_Zrm) * beam_divergence_angle\n",
    "    m_squared_value = (np.pi*w0**2)/(wavelength*Zrm)\n",
    "    unc_m2 = (2 * unc_w0 + unc_Zrm) * m_squared_value\n",
    "\n",
    "    return beam_divergence_angle, m_squared_value, unc_bda, unc_m2\n",
    "\n",
    "beam_divergence_angle, m_squared_value, unc_bda, unc_m2 = parameters(w0, Zrm)\n",
    "\n",
    "print(\"waist: \", w0, \"m +-\", unc_w0)\n",
    "print(\"rayleigh range: \", Zrm, \"m +-\", unc_Zrm / Zrm * 100)\n",
    "print(\"beam divergence angle: \", beam_divergence_angle, \"m +-\", unc_bda)\n",
    "print(\"M^2 value: \", m_squared_value, \"m +-\", unc_m2)"
   ]
  },
  {
   "cell_type": "code",
   "execution_count": 26,
   "id": "cd98fed6",
   "metadata": {},
   "outputs": [
    {
     "data": {
      "text/plain": [
       "1.432318073618317e-06"
      ]
     },
     "execution_count": 26,
     "metadata": {},
     "output_type": "execute_result"
    }
   ],
   "source": [
    "y_pred = waist_func(x_values, w0, z0, Zrm)\n",
    "y_meas = y_values\n",
    "errors = y_meas - y_pred\n",
    "chi_sq = np.sum(((y_meas - y_pred) ** 2) / y_pred)\n",
    "reduced_chisq = chi_sq / (len(y_meas)-1)\n",
    "reduced_chisq"
   ]
  }
 ],
 "metadata": {
  "kernelspec": {
   "display_name": "Python 3 (ipykernel)",
   "language": "python",
   "name": "python3"
  },
  "language_info": {
   "codemirror_mode": {
    "name": "ipython",
    "version": 3
   },
   "file_extension": ".py",
   "mimetype": "text/x-python",
   "name": "python",
   "nbconvert_exporter": "python",
   "pygments_lexer": "ipython3",
   "version": "3.11.6"
  }
 },
 "nbformat": 4,
 "nbformat_minor": 5
}
